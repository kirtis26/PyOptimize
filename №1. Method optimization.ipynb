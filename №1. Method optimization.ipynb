{
 "cells": [
  {
   "cell_type": "markdown",
   "id": "df11861e",
   "metadata": {},
   "source": [
    "## A. Поиск Фибоначчи\n",
    "\n",
    "\n",
    "\n",
    "---\n",
    "\n",
    "\n",
    "В данной задаче Вам необходимо реализовать метод Фибоначчи для функций двух типов:\n",
    "\n",
    "$f0(x) = c_0x^2+c_1x+c_2$\n",
    "\n",
    "$f1(x) = c_0x^4+c_1x^3+c_2x^2+c_3x+c_4$\n",
    "\n",
    "В качестве параметра  для последнего шага возьмите значение  = 0.01. На последнем шаге Вы должны отнять  от p = 0.5 и сделать последнюю итерацию алгоритма.\n",
    "Можете воспользоваться.[шаблоном](https://gist.github.com/evkonovalov/8b532b16ed954b95dfc2768130d62175).\n",
    "\n",
    "\n",
    "\n",
    "\n",
    "**Формат ввода:**\n",
    "\n",
    "$t$ - тип функции (0 или 1)\n",
    "\n",
    "$с_0...c_n$ - коэффициенты целевой функции, где $n$ это 3 или 5, в зависимости от типа\n",
    "\n",
    "$l \\ r \\ k$ - границы интервала поиска и критерий остановки ($|r - l| \\leq k$)\n",
    "\n",
    "**Формат вывода:**\n",
    "\n",
    "Cередина интервала неопределенности.\n",
    "Проверяется с точностью 1.0E-2."
   ]
  },
  {
   "cell_type": "code",
   "execution_count": null,
   "id": "9ff509ef",
   "metadata": {},
   "outputs": [],
   "source": [
    "from math import floor, ceil"
   ]
  },
  {
   "cell_type": "code",
   "execution_count": null,
   "id": "0c9f6245",
   "metadata": {},
   "outputs": [],
   "source": [
    "def f0(x, coef):\n",
    "    return coef[0] * x**2 + coef[1] * x + coef[2]"
   ]
  },
  {
   "cell_type": "code",
   "execution_count": null,
   "id": "49f9cf8e",
   "metadata": {},
   "outputs": [],
   "source": [
    "def f1(x, coef):\n",
    "    return coef[0] * x**4 + coef[1] * x**3 + coef[2] * x**2 + coef[3] * x + coef[4]"
   ]
  },
  {
   "cell_type": "code",
   "execution_count": null,
   "id": "4d5ce66e",
   "metadata": {},
   "outputs": [],
   "source": [
    "fib = lambda n: fib(n - 1) + fib(n - 2) if n > 2 else 1"
   ]
  },
  {
   "cell_type": "code",
   "execution_count": null,
   "id": "c6c98e12",
   "metadata": {},
   "outputs": [],
   "source": [
    "def fib_search(f, bounds, tol, coef, max_eps = 0.01):\n",
    "    \n",
    "    n = 0\n",
    "    fibMm1 = 1\n",
    "    fibMm2 = 0\n",
    "    fibM = fibMm1 + fibMm2\n",
    "    \n",
    "    l = min(bounds)\n",
    "    r = max(bounds)\n",
    "    interval_l = (r - l) / tol\n",
    "    \n",
    "    while fibM < interval_l:\n",
    "        fibMm2 = fibMm1\n",
    "        fibMm1 = fibM\n",
    "        fibM = fibMm1 + fibMm2\n",
    "        n += 1\n",
    "    \n",
    "    p1 = l + fibMm2 / fibM * (r - l)\n",
    "    p2 = l + fibMm1 / fibM * (r - l)\n",
    "    fp1 = f(p1, coef)\n",
    "    fp2 = f(p2, coef)\n",
    "    \n",
    "    for k in range(1, n-1):\n",
    "        \n",
    "        fibM = fibMm1\n",
    "        fibMm1 = fibMm2\n",
    "        fibMm2 = fibM - fibMm1\n",
    "        \n",
    "        if (fp1 > fp2):\n",
    "            l = p1\n",
    "            p1 = p2\n",
    "            p2 = l + (fibMm1 / fibM) * (r - l)\n",
    "            fp1 = fp2\n",
    "            fp2 = f(p2, coef) \n",
    "        else:\n",
    "            r = p2\n",
    "            p2 = p1\n",
    "            p1 = l + (fibMm2 / fibM) * (r - l)\n",
    "            fp2 = fp1\n",
    "            fp1 = f(p1, coef)\n",
    "        \n",
    "    p2 = l + (1/2 - max_eps) * (r - l)\n",
    "    \n",
    "    if fp1 >= f(p2, coef):\n",
    "        r = p1\n",
    "    elif fp1 < f(p2, coef):\n",
    "        l = p2\n",
    "        \n",
    "    return (r + l) / 2"
   ]
  },
  {
   "cell_type": "code",
   "execution_count": null,
   "id": "5ab37d04",
   "metadata": {},
   "outputs": [],
   "source": [
    "type_foo = int(input('Тип функции-полинома: 0 - 2ой степени, 1 - 4ой степени; '))\n",
    "f = f0 if (type_foo == 0) else f1\n",
    "coef = [i for i in map(float,input().split())]\n",
    "bounds = [0, 0]\n",
    "bounds[0], bounds[1], tol = map(float, input().split())\n",
    "r1 = fib_search(f, bounds, tol, coef)\n",
    "print(\"{:.10f}\".format(r1))"
   ]
  },
  {
   "cell_type": "markdown",
   "id": "e2310b51",
   "metadata": {},
   "source": [
    "# B. Метод Секущих\n",
    "\n",
    "\n",
    "\n",
    "---\n",
    "\n",
    "В данной задаче Вам необходимо реализовать метод Секущих для функций двух типов:\n",
    "\n",
    "$f_0(x) = (c_0x-1)^2 + 4*(4-c_1x)^4$\n",
    "\n",
    "$f_1(x) = c_0(x-c_1)+(x-c_2)^2$\n",
    "\n",
    "Можете воспользоваться [шаблоном](https://gist.github.com/evkonovalov/18cb3714ec48cc9b06313bbdc6120d9b).\n",
    "\n",
    "$$x_{k+1} = x_k - \\frac{f'(x_k)}{f''(x_k)} \\ \\ \\ \\text{где} \\ \\ \\ f''(x_k) = \\frac{f'(x_k) - f'(x_{k-1})}{x_k - x_{k-1}}$$\n",
    "\n",
    "(Переформулируем)\n",
    "\n",
    "$$x_{k+1} = x_k - \\frac{f'(x_k) (x_k - x_{k-1})}{f'(x_k) - f'(x_{k-1})}$$\n",
    "\n",
    "\n",
    "**Формат ввода:**\n",
    "\n",
    "$t$- тип функции (0 или 1)\n",
    "\n",
    "$с_0...c_n$ - коэффициенты целевой функции, где n это 1 или 2, в зависимости от типа\n",
    "\n",
    "$x_{0} \\ x_{1} \\ k$ - первые две точки поиска и критерий остановки ($|x - x_{new}| < k$)\n",
    "\n",
    "\n",
    "**Формат вывода:**\n",
    "\n",
    "Координата найденной точки.\n",
    "Проверяется точность до первых двух знаков после запятой.\n"
   ]
  },
  {
   "cell_type": "code",
   "execution_count": null,
   "id": "15a29a08",
   "metadata": {},
   "outputs": [],
   "source": [
    "def f0(x, coef):\n",
    "    return (coef[0] * x - 1)**2 + 4 * (4 - coef[1] * x)**4\n",
    "\n",
    "def df0(x, coef):\n",
    "    return 2 * coef[0] * (coef[0] * x - 1) - 16 * coef[1] * (4 - coef[1] * x)**3\n",
    "\n",
    "def f1(x,coef):\n",
    "    return coef[0]*(x - coef[1]) + (x - coef[2])**2\n",
    "\n",
    "def df1(x,coef):\n",
    "    return coef[0] - 2*coef[2] + 2*x\n",
    "\n",
    "def secant_search(f, df, x0, x1, coef, tol):\n",
    "    dfx0 = df(x0, coef)\n",
    "    first_flag = True\n",
    "    while (abs(x0 - x1) >= tol or first_flag):\n",
    "        dfx1 = df(x1, coef)\n",
    "        first_flag = False\n",
    "        x1, x0, dfx0 = x1 + ((dfx1 * (x0 - x1))/(dfx1 - dfx0)), x1, dfx1\n",
    "    return x1"
   ]
  },
  {
   "cell_type": "code",
   "execution_count": null,
   "id": "caa9e15f",
   "metadata": {
    "scrolled": true
   },
   "outputs": [],
   "source": [
    "type_foo = int(input())\n",
    "f, df = (f0, df0) if (type_foo == 0) else (f1, df1)\n",
    "coef = [i for i in map(float, input().split())]\n",
    "x0, x1, tol = map(float, input().split())\n",
    "r1 = secant_search(f, df, x0, x1, coef, tol)\n",
    "print(\"{:.10f}\".format(r1))"
   ]
  },
  {
   "cell_type": "markdown",
   "id": "ab2455d6",
   "metadata": {
    "id": "vvVoWe612PzW"
   },
   "source": [
    "# C. Метод Хука-Дживса\n",
    "\n",
    "\n",
    "---\n",
    "\n",
    "\n",
    "В данной задаче Вам необходимо реализовать метод Хука — Дживса для функций двух типов:\n",
    "\n",
    "$f0(x) = c_0x_1^4+c_1x_2^3+c_2x_2^2+c_3x_1+c_4$\n",
    "\n",
    "$f1(x) = x_1^2 + c_0x_1x_2 + c_1(x_2-3)^2$\n",
    "\n",
    "Параметры для запуска: $\\triangle$ = $[1,1]$, $\\alpha$ = 2, $\\lambda$ = 1. Можете воспользоваться [шаблоном](https://gist.github.com/evkonovalov/404b07ba8f83e99a30936b1eec0bfa22).\n",
    "\n",
    "**Формат ввода:**\n",
    "\n",
    "\n",
    "t - тип функции (0 или 1)\n",
    "с0...cn - коэффициенты целевой функции, где n это 4 или 1, в зависимости от типа\n",
    "x1 x2 - координаты начальной точки\n",
    "k - критерий остановки ( $\\triangle$ < k)\n",
    "\n",
    "**Формат вывода:**\n",
    "\n",
    "\n",
    "Две координаты найденной точки, через пробел.\n",
    "Проверяется точность до первых двух знаков после запятой."
   ]
  },
  {
   "cell_type": "code",
   "execution_count": null,
   "id": "4bc8e67a",
   "metadata": {
    "colab": {
     "base_uri": "https://localhost:8080/"
    },
    "id": "Dd2ZXsc62QFw",
    "outputId": "a22295cb-9b04-4655-dd2b-db6389d61659"
   },
   "outputs": [],
   "source": [
    "import numpy as np"
   ]
  },
  {
   "cell_type": "code",
   "execution_count": null,
   "id": "dd4e0053",
   "metadata": {
    "colab": {
     "base_uri": "https://localhost:8080/"
    },
    "id": "Dd2ZXsc62QFw",
    "outputId": "a22295cb-9b04-4655-dd2b-db6389d61659"
   },
   "outputs": [],
   "source": [
    "def f0(x, coef):\n",
    "    return coef[0] * x[0]**4 + coef[1] * x[1]**3 + coef[2] * x[1]**2 + coef[3] * x[0] + coef[4]"
   ]
  },
  {
   "cell_type": "code",
   "execution_count": null,
   "id": "a66895f1",
   "metadata": {
    "colab": {
     "base_uri": "https://localhost:8080/"
    },
    "id": "Dd2ZXsc62QFw",
    "outputId": "a22295cb-9b04-4655-dd2b-db6389d61659"
   },
   "outputs": [],
   "source": [
    "def f1(x, coef):\n",
    "    return x[0]**2 + coef[0] * x[0] * x[1] + coef[1] * (x[1] - 3)**2"
   ]
  },
  {
   "cell_type": "code",
   "execution_count": null,
   "id": "eedd2482",
   "metadata": {
    "colab": {
     "base_uri": "https://localhost:8080/"
    },
    "id": "Dd2ZXsc62QFw",
    "outputId": "a22295cb-9b04-4655-dd2b-db6389d61659"
   },
   "outputs": [],
   "source": [
    "def Hooke_Jeeves(f, x0, tol, coef, r=1/2, max_iter=1000):\n",
    "\n",
    "    delta = np.array([1.0, 1.0])\n",
    "    al = 2\n",
    "    lam = 1  \n",
    "    \n",
    "    x = x0\n",
    "    n = len(x)\n",
    "    e_hat = np.eye(n)\n",
    "    k = 0\n",
    "    h = tol\n",
    "    x_b = x\n",
    "    fx = f(x, coef)\n",
    "    results = (x, fx)\n",
    "    \n",
    "    while k < max_iter:\n",
    "        \n",
    "        for i in range(n):\n",
    "            x, fx = results\n",
    "            x_new = x + h * e_hat[:, i]\n",
    "            f_new = f(x_new, coef)\n",
    "            if (f_new <= fx):\n",
    "                k += 1\n",
    "                results = (x_new, f_new)         \n",
    "            else:\n",
    "                x_new = x - h * e_hat[:, i]\n",
    "                f_new = f(x_new, coef)\n",
    "                if (f_new <= fx):\n",
    "                    k += 1\n",
    "                    results = (x_new, f_new)\n",
    "\n",
    "        x, fx = results\n",
    "        \n",
    "        if (x_b[0] == x[0] and x_b[1] == x[1]):\n",
    "            h *= r\n",
    "            if (h < tol):\n",
    "                return x\n",
    "\n",
    "        x_new = 2 * x - x_b\n",
    "        x_b = x\n",
    "        f_new = f(x_new, coef)\n",
    "        if (f_new <= fx):\n",
    "            k += 1\n",
    "            results = (x_new, f_new)\n",
    "    x, fx = results\n",
    "    \n",
    "    return x\n",
    "  "
   ]
  },
  {
   "cell_type": "code",
   "execution_count": null,
   "id": "f76bd740",
   "metadata": {
    "colab": {
     "base_uri": "https://localhost:8080/"
    },
    "id": "Dd2ZXsc62QFw",
    "outputId": "a22295cb-9b04-4655-dd2b-db6389d61659"
   },
   "outputs": [],
   "source": [
    "type_foo = int(input())\n",
    "f = f0 if (type_foo == 0) else f1\n",
    "coef = [i for i in map(float, input().split())]\n",
    "x0 = np.array([i for i in map(float, input().split())])\n",
    "tol = float(input())\n",
    "r1 = Hooke_Jeeves(f, x0, tol, coef)\n",
    "print(\"{:.10f} {:.10f}\".format(r1[0], r1[1]))"
   ]
  },
  {
   "cell_type": "markdown",
   "id": "899660ec",
   "metadata": {
    "id": "uBP7vaG8IwM6"
   },
   "source": [
    "# D. Метод Нелдера — Мида\n",
    "\n",
    "\n",
    "---\n",
    "\n",
    "\n",
    "В данной задаче Вам необходимо реализовать метод Нелдера — Мида для функций двух типов:\n",
    "\n",
    "$f_0(x) = 4(x_0 - c_0)^2 + (x_1 - c_1)^2$\n",
    "\n",
    "$f_1(x) = (x_0-c_0)^2 + x_0x_1 + c_1(x_1-3)^2$\n",
    "\n",
    "Обозначим \n",
    "$$\\sigma = \\sqrt{\\frac{1}{N}\\sum_{i=0}^{N}{(f(x_i) - f(x_{mid}))^2}}$$\n",
    "где $x_{mid}$ - центр тяжести системы без худшей вершины симплекса $x_h$, а $x_i$ - вершины симплекса. \n",
    "Алгоритм завершает работу, когда $\\sigma < k$.\n",
    "\n",
    "Параметры для запуска:  $ \\alpha = 1,  \\beta = 0.5,  \\gamma = 2$. Можете воспользоваться [шаблоном](https://gist.github.com/evkonovalov/03ef93aee30c183651bc7c02d6f63871).\n",
    "\n",
    "**Формат ввода:**\n",
    "\n",
    "\n",
    "$t$ - тип функции (0 или 1)\n",
    "\n",
    "$c_0, \\ c_1$ - коэффициенты\n",
    "\n",
    "$x_0, \\ x_1$ - координаты первой начальной точки\n",
    "\n",
    "$y_0, \\ y_1$ - координаты второй начальной точки\n",
    "\n",
    "$z_0, \\ z_1$ - координаты третьей начальной точки\n",
    "\n",
    "$k$ - критерий остановки.\n",
    "\n",
    "**Формат вывода:**\n",
    "\n",
    "\n",
    "Вывести значение целевой функции в вершине с минимальным значением целевой функции.\n",
    "Проверяется точность до первых двух знаков после запятой."
   ]
  },
  {
   "cell_type": "code",
   "execution_count": null,
   "id": "0e3a633f",
   "metadata": {
    "colab": {
     "base_uri": "https://localhost:8080/"
    },
    "id": "1WvURlgsKbxA",
    "outputId": "1163fdc8-6768-4449-f100-504584b9a4ec"
   },
   "outputs": [],
   "source": [
    "import numpy as np"
   ]
  },
  {
   "cell_type": "code",
   "execution_count": null,
   "id": "ef09a4dc",
   "metadata": {
    "colab": {
     "base_uri": "https://localhost:8080/"
    },
    "id": "1WvURlgsKbxA",
    "outputId": "1163fdc8-6768-4449-f100-504584b9a4ec"
   },
   "outputs": [],
   "source": [
    "def f0(x, coef):\n",
    "    return (4 * (x[0] - coef[0])**2 + (x[1] - coef[1])**2)"
   ]
  },
  {
   "cell_type": "code",
   "execution_count": null,
   "id": "7dcc2735",
   "metadata": {
    "colab": {
     "base_uri": "https://localhost:8080/"
    },
    "id": "1WvURlgsKbxA",
    "outputId": "1163fdc8-6768-4449-f100-504584b9a4ec"
   },
   "outputs": [],
   "source": [
    "def f1(x, coef):\n",
    "    return (x[0] - coef[0])**2 + x[0] * x[1] + coef[1] * (x[1] - 3)**2"
   ]
  },
  {
   "cell_type": "code",
   "execution_count": null,
   "id": "7be23914",
   "metadata": {
    "colab": {
     "base_uri": "https://localhost:8080/"
    },
    "id": "1WvURlgsKbxA",
    "outputId": "1163fdc8-6768-4449-f100-504584b9a4ec"
   },
   "outputs": [],
   "source": [
    "def Nealder_Mead(f, x0, tol, coef):\n",
    "    \n",
    "    al = 1\n",
    "    beta = 0.5\n",
    "    gam = 2\n",
    "\n",
    "    first_flag = True\n",
    "    \n",
    "    sorted_verts = sorted(x0.copy(), key=lambda p: f(p, coef))\n",
    "    v0 = sorted_verts[0]\n",
    "    v1 = sorted_verts[1]\n",
    "    x_mid = (v0 + v1) / 2\n",
    "\n",
    "    sigma = np.sqrt(np.mean((sorted_verts - x_mid.copy()) ** 2))\n",
    "    \n",
    "    while (sigma >= tol or first_flag):\n",
    "        \n",
    "        first_flag = False\n",
    "        \n",
    "        sorted_verts = sorted(sorted_verts, key=lambda p: f(p, coef))\n",
    "        v0 = sorted_verts[0]\n",
    "        v1 = sorted_verts[1]\n",
    "        x_mid = (v0 + v1) / 2\n",
    "        \n",
    "        # отражение\n",
    "        x_r = x_mid + al * (x_mid - sorted_verts[-1])\n",
    "        fxg = f(sorted_verts[-2], coef)\n",
    "        fxb = f(sorted_verts[0], coef)\n",
    "        fxr = f(x_r, coef)\n",
    "        \n",
    "        if fxr < fxg:\n",
    "            sorted_verts[-1] = x_r\n",
    "            if (fxr < fxb):\n",
    "                x_e = x_mid + gam * (x_r - x_mid)\n",
    "                fxe = f(x_e, coef)\n",
    "                if fxe < fxr:\n",
    "                    sorted_verts[-1] = x_e\n",
    "            continue\n",
    "            \n",
    "        else:\n",
    "            x_c = x_mid + beta * (sorted_verts[-1] - x_mid)\n",
    "            fxc = f(x_c, coef)\n",
    "            fxw = f(sorted_verts[-1], coef)\n",
    "            if fxc < fxw:\n",
    "                sorted_verts[-1] = x_c\n",
    "                continue\n",
    "            else:\n",
    "                sorted_verts[1:] = sorted_verts[0] + 0.5 * (sorted_verts[1:] - sorted_verts[0])\n",
    "         \n",
    "        sigma = np.sqrt(np.mean((sorted_verts - x_mid) ** 2))\n",
    "        \n",
    "    return f(sorted_verts[0], coef)"
   ]
  },
  {
   "cell_type": "code",
   "execution_count": null,
   "id": "a410683f",
   "metadata": {
    "colab": {
     "base_uri": "https://localhost:8080/"
    },
    "id": "1WvURlgsKbxA",
    "outputId": "1163fdc8-6768-4449-f100-504584b9a4ec"
   },
   "outputs": [],
   "source": [
    "type_foo = int(input())\n",
    "f = f0 if (type_foo == 0) else f1\n",
    "coef = [i for i in map(float, input().split())]\n",
    "x0 = []\n",
    "for k in range(3):\n",
    "    x0.append(np.array([i for i in map(float, input().split())]))\n",
    "tol = float(input())\n",
    "r1 = Nealder_Mead(f, x0, tol, coef)\n",
    "print(\"{:.10f}\".format(r1))"
   ]
  }
 ],
 "metadata": {
  "kernelspec": {
   "display_name": "Python 3 (ipykernel)",
   "language": "python",
   "name": "python3"
  },
  "language_info": {
   "codemirror_mode": {
    "name": "ipython",
    "version": 3
   },
   "file_extension": ".py",
   "mimetype": "text/x-python",
   "name": "python",
   "nbconvert_exporter": "python",
   "pygments_lexer": "ipython3",
   "version": "3.9.7"
  }
 },
 "nbformat": 4,
 "nbformat_minor": 5
}
